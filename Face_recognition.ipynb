{
 "cells": [
  {
   "cell_type": "code",
   "execution_count": 1,
   "id": "a20236c1",
   "metadata": {},
   "outputs": [],
   "source": [
    "#importing the libraries. OpenCV\n",
    "import cv2\n",
    "import face_recognition"
   ]
  },
  {
   "cell_type": "code",
   "execution_count": 2,
   "id": "4679f5d0",
   "metadata": {},
   "outputs": [],
   "source": [
    "#Loading the video , Use video1 or video2 (video1 doesn't have audio, video2 has audio)\n",
    "capture= cv2.VideoCapture('video1.mp4')"
   ]
  },
  {
   "cell_type": "code",
   "execution_count": 3,
   "id": "36a45862",
   "metadata": {},
   "outputs": [
    {
     "data": {
      "text/plain": [
       "< cv2.VideoCapture 0x11b1c8bd0>"
      ]
     },
     "execution_count": 3,
     "metadata": {},
     "output_type": "execute_result"
    }
   ],
   "source": [
    "capture"
   ]
  },
  {
   "cell_type": "code",
   "execution_count": 9,
   "id": "8a421ebd",
   "metadata": {},
   "outputs": [],
   "source": [
    "face_locations = []"
   ]
  },
  {
   "cell_type": "code",
   "execution_count": 4,
   "id": "92b2275b",
   "metadata": {},
   "outputs": [],
   "source": [
    "while True:\n",
    "    ret, frame = capture.read()\n",
    "    rgb_frame = frame[:, :, ::-1]\n",
    "    #Detecting face locations\n",
    "    face_locations = face_recognition.face_locations(rgb_frame)\n",
    "    for top, right, bottom, left in face_locations:\n",
    "        # Spotting the face from the frame\n",
    "        cv2.rectangle(frame, (left, top), (right, bottom), (0, 0, 255), 2)\n",
    "    #Output\n",
    "    cv2.imshow('Video', frame)\n",
    "    if cv2.waitKey(20) == 13:\n",
    "        break\n"
   ]
  },
  {
   "cell_type": "code",
   "execution_count": 7,
   "id": "1e8bf437",
   "metadata": {},
   "outputs": [],
   "source": [
    "\n",
    "cv2.destroyAllWindows()"
   ]
  },
  {
   "cell_type": "code",
   "execution_count": null,
   "id": "d3515de0",
   "metadata": {},
   "outputs": [],
   "source": []
  }
 ],
 "metadata": {
  "kernelspec": {
   "display_name": "Python 3 (ipykernel)",
   "language": "python",
   "name": "python3"
  },
  "language_info": {
   "codemirror_mode": {
    "name": "ipython",
    "version": 3
   },
   "file_extension": ".py",
   "mimetype": "text/x-python",
   "name": "python",
   "nbconvert_exporter": "python",
   "pygments_lexer": "ipython3",
   "version": "3.11.4"
  }
 },
 "nbformat": 4,
 "nbformat_minor": 5
}
